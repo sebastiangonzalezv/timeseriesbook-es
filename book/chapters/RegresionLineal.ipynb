{
 "cells": [
  {
   "cell_type": "markdown",
   "id": "contrary-compiler",
   "metadata": {},
   "source": [
    "# Capítulo 3: Regresión lineal"
   ]
  },
  {
   "cell_type": "markdown",
   "id": "distant-selection",
   "metadata": {},
   "source": [
    "## Objetivos de aprendizaje\n",
    "<hr>"
   ]
  },
  {
   "cell_type": "markdown",
   "id": "arranged-subsection",
   "metadata": {},
   "source": [
    "- Introduction of Model-Building Strategy of a time series\n",
    "- practice plot skill in python"
   ]
  },
  {
   "cell_type": "markdown",
   "id": "defined-access",
   "metadata": {},
   "source": [
    "## 1. Introducción\n",
    "<hr>"
   ]
  },
  {
   "cell_type": "markdown",
   "id": "novel-warner",
   "metadata": {},
   "source": [
    "## 2. Modelo estadístico\n",
    "<hr>"
   ]
  },
  {
   "cell_type": "markdown",
   "id": "private-buyer",
   "metadata": {},
   "source": [
    "Un modelo de regresión lineal simple parte de la hipótesis de tener una distribución normal (distribución gaussiana) para cada uno de los valores de la variable independiente, pero con una varianza constante y un error no correlacionado para todo el modelo, esto nos permite definir el modelo de dos maneras distintas que se muestran a continuación:\n",
    "\n",
    "\n",
    "1. En la primera forma se modela la variable dependiente $Y$ como una función de primer orden de la variable dependiente $X$ adicionado un valor aleatorio como representación del error asociado con una distribución $\\mathcal{N}(0,\\sigma^{2})$.\n",
    "\n",
    "$$Y_i=\\beta_0 + \\beta_1X_i + \\epsilon_i,\\quad \\forall \\quad \\epsilon_i\\sim \\mathcal{N}(0,\\sigma^{2})$$\n",
    "\n",
    "2. Esta segunda forma se modela la variable dependiente $Y$ como una distribución normal donde la media se define como una función de primer orden, con una varianza constante.\n",
    "\n",
    "$$Y_i \\sim \\mathcal{N}(\\beta_0 + \\beta_1X_i,\\sigma^{2})$$\n",
    "\n",
    "\n",
    "Independientemente de la forma de modelar este modelo la varianza siempre es constante y los parámetros del modelo tienen el mismo vector $\\Theta = (\\,\\beta_0, \\beta_1, \\sigma)\\,^T$, para estimar este vector se suele utilizar los métodos de:\n",
    "* [Estimación por mínimos cuadrados](#Estimación-por-mínimos-cuadrados)\n",
    "* [Estimación por máxima verosimilitud](#Estimación-por-máxima-verosimilitud)\n",
    "\n",
    "La siguiente figura se busca dar claridad como un modelo de regresión lineal sigue una distribución normal con varianza constante."
   ]
  },
  {
   "cell_type": "code",
   "execution_count": null,
   "id": "civic-explanation",
   "metadata": {
    "tags": [
     "remove-cell"
    ]
   },
   "outputs": [],
   "source": [
    "%load_ext rpy2.ipython"
   ]
  },
  {
   "cell_type": "code",
   "execution_count": null,
   "id": "raised-founder",
   "metadata": {
    "caption": "somecaption",
    "label": "fig:somelabel",
    "tags": [
     "remove-input"
    ],
    "widefigure": true
   },
   "outputs": [],
   "source": [
    "%%R\n",
    "options( warn = -1 )\n",
    "\n",
    "\n",
    "linealModelPlot  = function(x, y, model)\n",
    "{\n",
    "    xlim = c(min(x)*0.95, max(x)*1.05)\n",
    "    ylim = c(floor(min(y)*0.95), ceiling(max(y)*1.05))\n",
    "    b0 = summary(model)$coefficients[1, 1]\n",
    "    b1 = summary(model)$coefficients[2, 1]\n",
    "    variance = summary(model)$dispersion\n",
    "    sd = sqrt(variance)\n",
    "    y_pred = predict(model, type=\"response\")\n",
    "    UpPred = qnorm(.95, y_pred, sd)\n",
    "    LwPred = qnorm(.05, y_pred, sd)\n",
    "    plotData = lapply(seq(along=x),\n",
    "                      function(i)\n",
    "                      {\n",
    "                           stp <- 251\n",
    "                           x = rep(x[i], stp)\n",
    "                           y = seq(ylim[1], ylim[2], length=stp)\n",
    "                           z0 = rep(0, stp)\n",
    "                           z = dnorm(y, y_pred[i], sd)\n",
    "                           return(list(x=x, y=y, z0=z0, z=z))\n",
    "                      }\n",
    "                        )\n",
    "    par(mfrow=c(1,1))\n",
    "    n = 2\n",
    "    N = length(y_pred)\n",
    "    zMax = max(unlist(sapply(plotData, \"[[\", \"z\")))*1.5\n",
    "    mat = persp(xlim, ylim, matrix(0, n, n), zlim=c(0, zMax), theta=-30, ticktype=\"detailed\",box=FALSE)\n",
    "    C = trans3d(x, UpPred, rep(0, N),mat)\n",
    "    lines(C, lty=2)\n",
    "    C = trans3d(x, LwPred, rep(0, N), mat)\n",
    "    lines(C, lty=2)\n",
    "    C = trans3d(c(x, rev(x)), c(UpPred, rev(LwPred)), rep(0, 2*N), mat)\n",
    "    polygon(C, border=NA, col=adjustcolor(\"yellow\", alpha.f = 0.5))\n",
    "    C = trans3d(x, y_pred, rep(0, N), mat)\n",
    "    lines(C, lwd=2, col=\"grey\")\n",
    "    C = trans3d(x, y, rep(0,N), mat)\n",
    "    points(C, lwd=2, col=\"#00526D\")\n",
    "    for(j in N:1)\n",
    "    {\n",
    "        xp = plotData[[j]]$x\n",
    "        yp = plotData[[j]]$y\n",
    "        z0 = plotData[[j]]$z0\n",
    "        zp = plotData[[j]]$z\n",
    "        C = trans3d(c(xp, xp), c(yp, rev(yp)), c(zp, z0), mat)\n",
    "        polygon(C, border=NA, col=\"light blue\", density=40)\n",
    "        C = trans3d(xp, yp, z0, mat)\n",
    "        lines(C, lty=2)\n",
    "        C = trans3d(xp, yp, zp, mat)\n",
    "        lines(C, col=adjustcolor(\"blue\", alpha.f = 0.5))\n",
    "    }\n",
    "}\n",
    "\n",
    "\n",
    "\n",
    "icecream = data.frame(temp=c(11.9, 11.9, 15.2, 16.4, 17.2, 18.1, 18.5, 19.4, 22.1, 22.6, 23.4, 25.1),\n",
    "                      units=c(185, 215, 332, 325, 408, 421, 406, 412, 522, 445, 544, 614)\n",
    "                     )\n",
    "market.size = 800\n",
    "icecream$opportunity = market.size - icecream$units\n",
    "\n",
    "model = glm(units ~ temp, data=icecream, family=gaussian(link=\"identity\"))\n",
    "linealModelPlot(x = icecream$temp, y=icecream$units, model=model)"
   ]
  },
  {
   "cell_type": "markdown",
   "id": "resident-grace",
   "metadata": {},
   "source": [
    "##  Apéndice\n",
    "<hr>"
   ]
  },
  {
   "cell_type": "markdown",
   "id": "handled-camcorder",
   "metadata": {},
   "source": [
    "### Estimación por mínimos cuadrados \n",
    "\n",
    "<hr>"
   ]
  },
  {
   "cell_type": "markdown",
   "id": "comparative-value",
   "metadata": {},
   "source": [
    "La estimación de los mínimos cuadrados se calcula utilizando un ajuste de regresión de una línea recta buscando la optimización del menor error cuadrático medio.\n",
    "\n",
    "\n",
    "\\begin{align*} \n",
    "\\mathcal{s}(\\,\\,\\beta_0, \\beta_1)\\,&= \\sum_{i=1}^{n}{\\epsilon_i}\\\\\n",
    "&=\\sum_{i=1}^n(y_i-\\beta_0-\\beta_1x_i)^2 \n",
    "\\end{align*}\n",
    "\n",
    "Derivando e igualando a cero, es decir,\n",
    "\n",
    "\\begin{align*} \n",
    "\\frac{\\partial S(\\beta_0, \\beta_1)}{\\partial \\beta_0}&=0\\\\\n",
    "\\frac{\\partial S(\\beta_0, \\beta_1)}{\\partial \\beta_1}&=0\n",
    "\\end{align*}\n",
    "\n",
    "obtenemos que los estimadores para $\\beta_0$ y $\\beta_1$:<br>\n",
    "\\begin{gather*} \n",
    "\\widehat{\\beta}_0=\\overline{y}-\\widehat{\\beta}_1\\overline{x}\\quad \\text{y}\\quad \\widehat{\\beta}_1=\\frac{S_{xy}}{S_{xx}}\n",
    "\\end{gather*}\n",
    "\n",
    "donde:\n",
    "\n",
    "\\begin{gather*} \n",
    "S_{xx}=\\sum_{i=1}^n(x_i-\\overline{x})^2\\\\\n",
    "S_{yy}=\\sum_{i=1}^n(y_i-\\overline{y})^2\\\\\n",
    "S_{xy}=S_{yx}\\\\\n",
    "S_{yx}=\\sum_{i=1}^n(x_i-\\overline{x})(y_i-\\overline{y})\n",
    "\\end{gather*}\n"
   ]
  },
  {
   "cell_type": "markdown",
   "id": "outdoor-specific",
   "metadata": {},
   "source": [
    "### Estimación por máxima verosimilitud\n",
    "\n",
    "<hr>"
   ]
  },
  {
   "cell_type": "markdown",
   "id": "effective-spray",
   "metadata": {},
   "source": [
    "El método más común para estimar parámetros es el método de máxima verosimilitud de un modelo donde $X_1,...,X_n$ independientes e idénticamente distribuidas con función de densidad de probabilidad $P(x,\\theta)$ entonces se define:\n",
    "\n",
    "* función de verosimilitud:\n",
    "\\begin{gather*} \n",
    "\\mathcal{L}(\\theta) = \\prod_{i=1}^n p(x_i;\\theta).\n",
    "\\end{gather*}\n",
    "\n",
    "* función de log-verosimilitud\n",
    "\\begin{gather*} \n",
    "\\mathcal{l}(\\theta)=\\ln \\mathcal{L}(\\theta)=\\sum_{i=1}^n \\ln p(x_i; \\theta)\n",
    "\\end{gather*}\n",
    "\n",
    "por ende, el estimador de máxima verosimilitud simplemente es el valor   $\\theta $  que maximiza $\\mathcal{L}(\\theta)$.En el caso particular de un modelo de regresión lineal simple parte de la hipótesis de tener una distribución normal por consíguete su función de densidad se define como:\n",
    "\n",
    "\\begin{gather*}\n",
    "f(x)=\\frac{1}{\\sigma\\sqrt{2\\pi}}\\exp\\left\\{-\\frac{(x-\\overline{x})^2}{2\\sigma^2}\\right\\}\n",
    "\\end{gather*}\n",
    "\n",
    "Al remplazar la función de densidad en la ecuación de log-verosimilitud. Se obtiene la siguiente expresión:\n",
    "\n",
    "\\begin{align*}\n",
    "\\mathcal{l}(\\theta)=&\\sum_{i=1}^n \\ln\\left(\\frac{1}{\\sigma\\sqrt{2\\pi}}\\exp\\left\\{-\\frac{(Y_i-\\beta_0-\\beta_1X_i)^2}{2\\sigma^2}\\right\\}\\right)\\\\\n",
    "\\mathcal{l}(\\theta)=&-\\left(\\frac{n}{2}\\right)\\ln(2\\pi)-\\left(\\frac{n}{2}\\right)\\ln\\left(\\sigma^2\\right)-\\left(\\frac{1}{2\\sigma^2}\\right)\\sum_{i=1}^n (Y_i - \\beta_0 - \\beta_1 X_i)^2\n",
    "\\end{align*}\n",
    "\n",
    "erivando parcialmente con respecto a $\\beta_0$, $\\beta_1$ y $\\sigma^2$ e igualando a cero, obtenemos los estimadores de máxima verosimilitud:\n",
    "\n",
    "\\begin{align*}\n",
    "\\widetilde{\\beta}_0 =&\\overline{Y}-\\widehat{\\beta}_1\\overline{X} \\\\\n",
    "\\widetilde{\\beta}_1 =&\\frac{S_{xy}}{S_{xx}}\\\\\n",
    "\\widetilde{\\sigma}^2=&\\frac{\\sum_{i=1}^n(Y_i-\\widetilde{\\beta}_0-\\widetilde{\\beta}_1X_i)^2}{n}\n",
    "\\end{align*}"
   ]
  },
  {
   "cell_type": "code",
   "execution_count": null,
   "id": "structural-projection",
   "metadata": {},
   "outputs": [],
   "source": []
  }
 ],
 "metadata": {
  "kernelspec": {
   "display_name": "Python 3",
   "language": "python",
   "name": "python3"
  },
  "language_info": {
   "codemirror_mode": {
    "name": "ipython",
    "version": 3
   },
   "file_extension": ".py",
   "mimetype": "text/x-python",
   "name": "python",
   "nbconvert_exporter": "python",
   "pygments_lexer": "ipython3",
   "version": "3.7.10"
  }
 },
 "nbformat": 4,
 "nbformat_minor": 5
}
