{
 "cells": [
  {
   "cell_type": "markdown",
   "id": "sound-essex",
   "metadata": {},
   "source": [
    "# Capítulo 3: Regresión lineal"
   ]
  },
  {
   "cell_type": "markdown",
   "id": "optimum-hearing",
   "metadata": {},
   "source": [
    "<h2> Contenido <span class=\"tocSkip\"></span></h2>\n",
    "<hr>\n",
    "<div class=\"toc\"><ul class=\"toc-item\">\n",
    "    <li><span>\n",
    "        <a href=\"#1.-Introduction\" data-toc-modified-id=\"1.-Introduction-1\">1. Introduction</a>\n",
    "    </span></li>\n",
    "    <li><span>\n",
    "        <a href=\"#2.- Modelo estadístico\" data-toc-modified-id=\"2.-Modelo estadístico2\">2. Modelo estadístico</a>\n",
    "    </span></li>\n",
    "    <li><span>\n",
    "        <a href=\"#3.-Exercises\" data-toc-modified-id=\"3.-Exercises-3\">3. Exercises</a>\n",
    "    </span></li>\n",
    "</ul></div>"
   ]
  },
  {
   "cell_type": "markdown",
   "id": "respected-advantage",
   "metadata": {},
   "source": [
    "## Objetivos de aprendizaje\n",
    "<hr>"
   ]
  },
  {
   "cell_type": "markdown",
   "id": "fleet-windsor",
   "metadata": {},
   "source": [
    "- Introduction of Model-Building Strategy of a time series\n",
    "- practice plot skill in python"
   ]
  },
  {
   "cell_type": "markdown",
   "id": "miniature-custody",
   "metadata": {},
   "source": [
    "## 1. Introduction\n",
    "<hr>"
   ]
  },
  {
   "cell_type": "markdown",
   "id": "southeast-remark",
   "metadata": {},
   "source": [
    "## 2. Introduction\n",
    "<hr>"
   ]
  },
  {
   "cell_type": "code",
   "execution_count": null,
   "id": "subject-roman",
   "metadata": {},
   "outputs": [],
   "source": [
    "%load_ext rpy2.ipython"
   ]
  },
  {
   "cell_type": "code",
   "execution_count": null,
   "id": "roman-toner",
   "metadata": {},
   "outputs": [],
   "source": [
    "%%R -i df -w 5 -h 5 --units in -r 200"
   ]
  },
  {
   "cell_type": "code",
   "execution_count": null,
   "id": "architectural-colonial",
   "metadata": {},
   "outputs": [],
   "source": []
  }
 ],
 "metadata": {
  "kernelspec": {
   "display_name": "Python 3",
   "language": "python",
   "name": "python3"
  },
  "language_info": {
   "codemirror_mode": {
    "name": "ipython",
    "version": 3
   },
   "file_extension": ".py",
   "mimetype": "text/x-python",
   "name": "python",
   "nbconvert_exporter": "python",
   "pygments_lexer": "ipython3",
   "version": "3.7.10"
  }
 },
 "nbformat": 4,
 "nbformat_minor": 5
}
